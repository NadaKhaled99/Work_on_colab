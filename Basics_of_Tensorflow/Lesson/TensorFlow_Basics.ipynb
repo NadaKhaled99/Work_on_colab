{
  "nbformat": 4,
  "nbformat_minor": 0,
  "metadata": {
    "colab": {
      "provenance": [],
      "authorship_tag": "ABX9TyM/MyLfA0HtZJLnxx9ceB9I",
      "include_colab_link": true
    },
    "kernelspec": {
      "name": "python3",
      "display_name": "Python 3"
    },
    "language_info": {
      "name": "python"
    }
  },
  "cells": [
    {
      "cell_type": "markdown",
      "metadata": {
        "id": "view-in-github",
        "colab_type": "text"
      },
      "source": [
        "<a href=\"https://colab.research.google.com/github/NadaKhaled99/Work_on_colab/blob/main/Basics_of_Tensorflow/Lesson/TensorFlow_Basics.ipynb\" target=\"_parent\"><img src=\"https://colab.research.google.com/assets/colab-badge.svg\" alt=\"Open In Colab\"/></a>"
      ]
    },
    {
      "cell_type": "markdown",
      "source": [
        " **TensorFlow Tensors learned from Neuralearn.ai.ipynb**\n",
        "\n",
        "\n",
        "* Notes\n",
        "\n",
        "1. because we on colab we don't need to instal tensorflow , all we need just import it.\n",
        "\n",
        "\n",
        "\n",
        "\n",
        "\n",
        "\n",
        "\n",
        "\n",
        "\n",
        "\n"
      ],
      "metadata": {
        "id": "J2jvLpJfgTSh"
      }
    },
    {
      "cell_type": "code",
      "source": [
        "import tensorflow as tf"
      ],
      "metadata": {
        "id": "ACyNKPHeiJiR"
      },
      "execution_count": 2,
      "outputs": []
    },
    {
      "cell_type": "markdown",
      "source": [
        "\n",
        "\n",
        "\n",
        "* **Note:**\n",
        "\n",
        "1.   variable called tensor_zero_d\n",
        "2.   Put tensorflow's constant method\n",
        "\n",
        "3.  Then specify the constant\n",
        "4.   Constant(value, dtype=None, shape=None, name='Const')\n",
        "\n",
        "\n",
        "5. The Int32 value type represents signed integers with values ranging from negative 2,147,483,648 through positive 2,147,483,647.\n",
        "\n",
        "\n",
        "6. Int32 is used to represents 32-bit signed integers(positive and negative)\n",
        "\n",
        "\n",
        "\n",
        "\n",
        "\n",
        "\n",
        "\n",
        "\n",
        "\n",
        "\n",
        "\n"
      ],
      "metadata": {
        "id": "Jw5dZBjPmGjy"
      }
    },
    {
      "cell_type": "code",
      "source": [
        "tensor_zero_d = tf.constant(4)\n",
        "print(tensor_zero_d)"
      ],
      "metadata": {
        "colab": {
          "base_uri": "https://localhost:8080/"
        },
        "id": "kJKYYif6mELQ",
        "outputId": "88b6aa03-2f16-4724-bc24-b7e1cdd02bc0"
      },
      "execution_count": 3,
      "outputs": [
        {
          "output_type": "stream",
          "name": "stdout",
          "text": [
            "tf.Tensor(4, shape=(), dtype=int32)\n"
          ]
        }
      ]
    },
    {
      "cell_type": "code",
      "source": [
        "tensor_one_d = tf.constant([2, 0, -3])\n",
        "print(tensor_one_d)"
      ],
      "metadata": {
        "colab": {
          "base_uri": "https://localhost:8080/"
        },
        "id": "sNfKW5-Ktc4C",
        "outputId": "cf00ab9b-8550-4384-b76d-0e193a88a070"
      },
      "execution_count": 9,
      "outputs": [
        {
          "output_type": "stream",
          "name": "stdout",
          "text": [
            "tf.Tensor([ 2  0 -3], shape=(3,), dtype=int32)\n"
          ]
        }
      ]
    },
    {
      "cell_type": "markdown",
      "source": [
        "**Note**:The\n",
        "shape is the no. of elements and still integers"
      ],
      "metadata": {
        "id": "kL6hyOblprmw"
      }
    },
    {
      "cell_type": "code",
      "source": [
        "tensor_one_d = tf.constant([2, 0, -3, 8, 90])\n",
        "print(tensor_one_d)"
      ],
      "metadata": {
        "colab": {
          "base_uri": "https://localhost:8080/"
        },
        "id": "cMeYxHL_pCzg",
        "outputId": "bd9825d8-1e00-4c34-d33d-15e0d45ca9fc"
      },
      "execution_count": 7,
      "outputs": [
        {
          "output_type": "stream",
          "name": "stdout",
          "text": [
            "tf.Tensor([ 2  0 -3  8 90], shape=(5,), dtype=int32)\n"
          ]
        }
      ]
    },
    {
      "cell_type": "markdown",
      "source": [
        "\n",
        "\n",
        "Note:The type (float 32)\n",
        "\n"
      ],
      "metadata": {
        "id": "OhzkuWpXq6g0"
      }
    },
    {
      "cell_type": "code",
      "source": [
        "tensor_one_d = tf.constant([2, 0, -3, 8, 90.])\n",
        "print(tensor_one_d)"
      ],
      "metadata": {
        "colab": {
          "base_uri": "https://localhost:8080/"
        },
        "id": "ZNRfqNigq2tl",
        "outputId": "d0adaf07-cecf-4196-c1e6-88a0daf93049"
      },
      "execution_count": 6,
      "outputs": [
        {
          "output_type": "stream",
          "name": "stdout",
          "text": [
            "tf.Tensor([ 2.  0. -3.  8. 90.], shape=(5,), dtype=float32)\n"
          ]
        }
      ]
    },
    {
      "cell_type": "markdown",
      "source": [
        "\n",
        "\n",
        "* **Note:**\n",
        "\n",
        "1. shape of 0-D --> is empty\n",
        "2. shape of 1-D --> is (5,) or (3,) <> ([2,3,4])or ([1,2,3,4,5])\n",
        "3. shape of 2-D --> is (4,3) <>\n",
        "([\n",
        "    [1,2,0],\n",
        "    [3,5,-1],\n",
        "    [1,5,6],\n",
        "    [2,3,8]\n",
        "])\n",
        "\n",
        "\n",
        "\n",
        "\n",
        "\n",
        "\n"
      ],
      "metadata": {
        "id": "T5JaBns8tpSU"
      }
    },
    {
      "cell_type": "code",
      "source": [
        "tensor_two_d= tf.constant([\n",
        "    [1,2,0],\n",
        "    [3,5,-1],\n",
        "    [1,5,6],\n",
        "    [2,3,8]\n",
        "])\n",
        "print(tensor_two_d)"
      ],
      "metadata": {
        "colab": {
          "base_uri": "https://localhost:8080/"
        },
        "id": "vErCgB6dsgZu",
        "outputId": "be3cc4bc-e6df-4f85-bdc0-e60f1fcee386"
      },
      "execution_count": 8,
      "outputs": [
        {
          "output_type": "stream",
          "name": "stdout",
          "text": [
            "tf.Tensor(\n",
            "[[ 1  2  0]\n",
            " [ 3  5 -1]\n",
            " [ 1  5  6]\n",
            " [ 2  3  8]], shape=(4, 3), dtype=int32)\n"
          ]
        }
      ]
    },
    {
      "cell_type": "markdown",
      "source": [
        "**Note:**\n",
        "\n",
        "1. Put two common not only one common **remember** as\n",
        "([\n",
        "    [[1,2,0],\n",
        "     [3,5,-1]],\n",
        "\n",
        "    [[10,2,0],\n",
        "     [1,0,2]],\n",
        "\n",
        "    [[5,8,0],\n",
        "     [2,7,0]],\n",
        "\n",
        "    [[2,1,9],\n",
        "     [4,-3,32]],\n",
        "                             \n",
        "])\n",
        "\n"
      ],
      "metadata": {
        "id": "XGtZkx95xSgh"
      }
    },
    {
      "cell_type": "code",
      "source": [
        "tensor_three_d =tf.constant([\n",
        "    [[1,2,0],\n",
        "    [3,5,-1]],\n",
        "\n",
        "    [[10,2,0],\n",
        "    [1,0,2]],\n",
        "\n",
        "    [[5,8,0],\n",
        "    [2,7,0]],\n",
        "\n",
        "    [[2,1,9],\n",
        "    [4,-3,32]],\n",
        "\n",
        "])\n",
        "print(tensor_three_d)"
      ],
      "metadata": {
        "colab": {
          "base_uri": "https://localhost:8080/"
        },
        "id": "vn8jIaFuvIrm",
        "outputId": "2800caf9-981f-4c5d-8ed5-e107269eaa4d"
      },
      "execution_count": 12,
      "outputs": [
        {
          "output_type": "stream",
          "name": "stdout",
          "text": [
            "tf.Tensor(\n",
            "[[[ 1  2  0]\n",
            "  [ 3  5 -1]]\n",
            "\n",
            " [[10  2  0]\n",
            "  [ 1  0  2]]\n",
            "\n",
            " [[ 5  8  0]\n",
            "  [ 2  7  0]]\n",
            "\n",
            " [[ 2  1  9]\n",
            "  [ 4 -3 32]]], shape=(4, 2, 3), dtype=int32)\n"
          ]
        }
      ]
    },
    {
      "cell_type": "markdown",
      "source": [
        "**.shape**"
      ],
      "metadata": {
        "id": "oYRGj2W30OLK"
      }
    },
    {
      "cell_type": "code",
      "source": [
        "print(tensor_zero_d.shape)"
      ],
      "metadata": {
        "colab": {
          "base_uri": "https://localhost:8080/"
        },
        "id": "iSjGz6c4zwhF",
        "outputId": "c250865b-d124-4783-8a3d-91191e327f66"
      },
      "execution_count": 16,
      "outputs": [
        {
          "output_type": "stream",
          "name": "stdout",
          "text": [
            "()\n"
          ]
        }
      ]
    },
    {
      "cell_type": "code",
      "source": [
        "print(tensor_one_d.shape)"
      ],
      "metadata": {
        "colab": {
          "base_uri": "https://localhost:8080/"
        },
        "id": "Hy-F-iMOyy7I",
        "outputId": "1d4b91fb-bc0e-442f-bf3b-0a25ab49c748"
      },
      "execution_count": 17,
      "outputs": [
        {
          "output_type": "stream",
          "name": "stdout",
          "text": [
            "(3,)\n"
          ]
        }
      ]
    },
    {
      "cell_type": "code",
      "source": [
        "print(tensor_two_d.shape)"
      ],
      "metadata": {
        "colab": {
          "base_uri": "https://localhost:8080/"
        },
        "id": "L2jtk63kzgSu",
        "outputId": "1289bb8f-8c9b-4242-edde-2cb8998b1d32"
      },
      "execution_count": 18,
      "outputs": [
        {
          "output_type": "stream",
          "name": "stdout",
          "text": [
            "(4, 3)\n"
          ]
        }
      ]
    },
    {
      "cell_type": "code",
      "source": [
        "print(tensor_three_d.shape)"
      ],
      "metadata": {
        "colab": {
          "base_uri": "https://localhost:8080/"
        },
        "id": "W-ekplOBzYNO",
        "outputId": "7a91c3ad-6903-4cc9-8a88-88c202d0786e"
      },
      "execution_count": 19,
      "outputs": [
        {
          "output_type": "stream",
          "name": "stdout",
          "text": [
            "(4, 2, 3)\n"
          ]
        }
      ]
    },
    {
      "cell_type": "markdown",
      "source": [
        "**(1).ndim: it gives us a value of three**\n",
        "\n",
        "**(2)Showing us that our tensor is a 3-D tensor**\n",
        "\n",
        "\n",
        "\n"
      ],
      "metadata": {
        "id": "5ex-JIbl4FgH"
      }
    },
    {
      "cell_type": "code",
      "source": [
        "print(tensor_zero_d.shape)"
      ],
      "metadata": {
        "colab": {
          "base_uri": "https://localhost:8080/"
        },
        "id": "OrGNdcPa5sgc",
        "outputId": "e33b0aa3-28bb-4529-f55b-50c3609527f6"
      },
      "execution_count": 21,
      "outputs": [
        {
          "output_type": "stream",
          "name": "stdout",
          "text": [
            "()\n"
          ]
        }
      ]
    },
    {
      "cell_type": "code",
      "source": [
        "print(tensor_one_d.shape)"
      ],
      "metadata": {
        "colab": {
          "base_uri": "https://localhost:8080/"
        },
        "id": "VCGRpKOk5or3",
        "outputId": "7e7a0a35-ec9c-44ef-ac74-1c4e7783e69b"
      },
      "execution_count": 22,
      "outputs": [
        {
          "output_type": "stream",
          "name": "stdout",
          "text": [
            "(3,)\n"
          ]
        }
      ]
    },
    {
      "cell_type": "code",
      "source": [
        "print(tensor_two_d.shape)"
      ],
      "metadata": {
        "colab": {
          "base_uri": "https://localhost:8080/"
        },
        "id": "fTKMFNGs5l9Q",
        "outputId": "6db8760d-c852-42c8-8034-383dd28499fa"
      },
      "execution_count": 23,
      "outputs": [
        {
          "output_type": "stream",
          "name": "stdout",
          "text": [
            "(4, 3)\n"
          ]
        }
      ]
    },
    {
      "cell_type": "markdown",
      "source": [
        "**There is difference between .shape & .ndim**"
      ],
      "metadata": {
        "id": "GwinS5sw51iP"
      }
    },
    {
      "cell_type": "code",
      "source": [
        "print(tensor_three_d.ndim)"
      ],
      "metadata": {
        "colab": {
          "base_uri": "https://localhost:8080/"
        },
        "id": "c1g3R_gE0drF",
        "outputId": "4f5a875b-3a59-4d66-f616-9d3af94d9547"
      },
      "execution_count": 24,
      "outputs": [
        {
          "output_type": "stream",
          "name": "stdout",
          "text": [
            "3\n"
          ]
        }
      ]
    },
    {
      "cell_type": "markdown",
      "source": [
        "**Try the 4-Dimensional Matrix**"
      ],
      "metadata": {
        "id": "M8qDgich8Se9"
      }
    },
    {
      "cell_type": "code",
      "source": [
        "tensor_four_d=tf.constant([\n",
        "\n",
        " [\n",
        "    [[1,2,0],\n",
        "    [3,5,-1]],\n",
        "\n",
        "    [[10,2,0],\n",
        "    [1,0,2]],\n",
        "\n",
        "    [[5,8,0],\n",
        "    [2,7,0]],\n",
        "\n",
        "    [[2,1,9],\n",
        "    [4,-3,32]],\n",
        "\n",
        "],\n",
        "\n",
        "[\n",
        "    [[13,26,0],\n",
        "    [3,5,-12]],\n",
        "\n",
        "    [[10,2,0],\n",
        "    [1,0,23]],\n",
        "\n",
        "    [[5,8,0],\n",
        "    [2,73,0]],\n",
        "\n",
        "    [[2,1,9],\n",
        "    [4,-30,32]],\n",
        "\n",
        "],\n",
        "\n",
        "[\n",
        "    [[103,26,0],\n",
        "    [3,50,-12]],\n",
        "\n",
        "    [[100,2,0],\n",
        "    [1,0,23]],\n",
        "\n",
        "    [[5,28,0],\n",
        "    [2,3,0]],\n",
        "\n",
        "    [[22,1,9],\n",
        "    [44,-320,32]],\n",
        "\n",
        "],\n",
        "\n",
        "])\n",
        "\n",
        "\n",
        "print(tensor_four_d)"
      ],
      "metadata": {
        "colab": {
          "base_uri": "https://localhost:8080/"
        },
        "id": "I4VBBz_W6xIp",
        "outputId": "f9e73284-c6c8-46ea-f4cc-e95b05ee830e"
      },
      "execution_count": 29,
      "outputs": [
        {
          "output_type": "stream",
          "name": "stdout",
          "text": [
            "tf.Tensor(\n",
            "[[[[   1    2    0]\n",
            "   [   3    5   -1]]\n",
            "\n",
            "  [[  10    2    0]\n",
            "   [   1    0    2]]\n",
            "\n",
            "  [[   5    8    0]\n",
            "   [   2    7    0]]\n",
            "\n",
            "  [[   2    1    9]\n",
            "   [   4   -3   32]]]\n",
            "\n",
            "\n",
            " [[[  13   26    0]\n",
            "   [   3    5  -12]]\n",
            "\n",
            "  [[  10    2    0]\n",
            "   [   1    0   23]]\n",
            "\n",
            "  [[   5    8    0]\n",
            "   [   2   73    0]]\n",
            "\n",
            "  [[   2    1    9]\n",
            "   [   4  -30   32]]]\n",
            "\n",
            "\n",
            " [[[ 103   26    0]\n",
            "   [   3   50  -12]]\n",
            "\n",
            "  [[ 100    2    0]\n",
            "   [   1    0   23]]\n",
            "\n",
            "  [[   5   28    0]\n",
            "   [   2    3    0]]\n",
            "\n",
            "  [[  22    1    9]\n",
            "   [  44 -320   32]]]], shape=(3, 4, 2, 3), dtype=int32)\n"
          ]
        }
      ]
    },
    {
      "cell_type": "markdown",
      "source": [
        "**Describe**\n",
        "**Shape=(3, 4, 2, 3)**\n",
        "**means:**\n",
        "1. We have 3d tensor\n",
        "\n",
        "                  \n",
        "                  \n",
        "                       ----- 1\n",
        "                     ----- 2\n",
        "                    ---- 3\n",
        "                1 ----4\n",
        "                                       \n",
        "                       ----- 1\n",
        "                     ----- 2\n",
        "                    ---- 3\n",
        "                2 ----4\n",
        "              \n",
        "                       ----- 1\n",
        "                     ----- 2\n",
        "                    ---- 3\n",
        "                3 ----4\n",
        "                  \n",
        "\n",
        "2. We have 4 array for every 2d tensor       \n",
        "                                             1\n",
        "                                           2\n",
        "                                         3\n",
        "                                       4\n",
        "\n",
        "3. we have 2 rows  for every 2d tensor\n",
        "                                       --  [--]\n",
        "                                       --  [--]\n",
        "\n",
        "4. we have 3 columns  for every 1d tensor\n",
        "                                       |  |  |  |\n",
        "                                       |  |  |  |\n",
        "                                       |  |  |  |\n",
        "                                      [1, 1, 1, 1]  \n",
        "\n",
        "\n",
        "\n"
      ],
      "metadata": {
        "id": "ZFzdM4Sj_f8G"
      }
    },
    {
      "cell_type": "markdown",
      "source": [],
      "metadata": {
        "id": "U2eFO967JQGl"
      }
    },
    {
      "cell_type": "code",
      "source": [
        "tensor_one_d = tf.constant([2, 0, -3, 8, 90],dtype=tf.float)\n",
        "print(tensor_one_d)"
      ],
      "metadata": {
        "id": "O4J76iu7JEC1"
      },
      "execution_count": null,
      "outputs": []
    },
    {
      "cell_type": "markdown",
      "source": [
        "-------------------------"
      ],
      "metadata": {
        "id": "AJA171F_0KK9"
      }
    }
  ]
}